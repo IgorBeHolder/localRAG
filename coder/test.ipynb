{
 "cells": [
  {
   "cell_type": "code",
   "execution_count": 8,
   "metadata": {},
   "outputs": [],
   "source": [
    "import interpreter"
   ]
  },
  {
   "cell_type": "code",
   "execution_count": 9,
   "metadata": {},
   "outputs": [],
   "source": [
    "interpreter.local = True \n",
    "# Tells OI to send messages in OpenAI's format / '/model name at vllm'\n",
    "interpreter.model = \"openai//model-store/openchat/openchat_3.5\" \n",
    "\n",
    "interpreter.api_key = \"fake_key\" # LiteLLM, which we use to talk to LM Studio, requires this\n",
    "interpreter.api_base = \"http://194.135.112.219:3003/v1\" # Point this at any OpenAI compatible server\n",
    "interpreter.model_name = \"/model-store/openchat/openchat_3.5\"\n",
    "\n",
    "interpreter.context_window = 4096\n",
    "interpreter.max_tokens = 1024\n",
    "interpreter.max_output = 2000\n",
    "interpreter.conversation_history = True\n",
    "interpreter.conversation_filename = \"my_conversation.json\"\n",
    "interpreter.temperature = 0.0\n",
    "\n",
    "interpreter.debug_mode = False \n",
    "interpreter.auto_run = True \n",
    "interpreter.custom_llm_provider = \"openai\""
   ]
  },
  {
   "cell_type": "code",
   "execution_count": 14,
   "metadata": {},
   "outputs": [
    {
     "data": {
      "text/html": [
       "<pre style=\"white-space:pre;overflow-x:auto;line-height:normal;font-family:Menlo,'DejaVu Sans Mono',consolas,'Courier New',monospace\">/Users/velo1/my_projects/open-interpreter/oi/lib/python3.11/site-packages/rich/live.py:231: UserWarning: install \n",
       "\"ipywidgets\" for Jupyter support\n",
       "  warnings.warn('install \"ipywidgets\" for Jupyter support')\n",
       "</pre>\n"
      ],
      "text/plain": [
       "/Users/velo1/my_projects/open-interpreter/oi/lib/python3.11/site-packages/rich/live.py:231: UserWarning: install \n",
       "\"ipywidgets\" for Jupyter support\n",
       "  warnings.warn('install \"ipywidgets\" for Jupyter support')\n"
      ]
     },
     "metadata": {},
     "output_type": "display_data"
    },
    {
     "data": {
      "text/html": [
       "<pre style=\"white-space:pre;overflow-x:auto;line-height:normal;font-family:Menlo,'DejaVu Sans Mono',consolas,'Courier New',monospace\"></pre>\n"
      ],
      "text/plain": []
     },
     "metadata": {},
     "output_type": "display_data"
    },
    {
     "data": {
      "text/html": [
       "<pre style=\"white-space:pre;overflow-x:auto;line-height:normal;font-family:Menlo,'DejaVu Sans Mono',consolas,'Courier New',monospace\"></pre>\n"
      ],
      "text/plain": []
     },
     "metadata": {},
     "output_type": "display_data"
    },
    {
     "data": {
      "text/html": [
       "<pre style=\"white-space:pre;overflow-x:auto;line-height:normal;font-family:Menlo,'DejaVu Sans Mono',consolas,'Courier New',monospace\"></pre>\n"
      ],
      "text/plain": []
     },
     "metadata": {},
     "output_type": "display_data"
    },
    {
     "data": {
      "text/html": [
       "<pre style=\"white-space:pre;overflow-x:auto;line-height:normal;font-family:Menlo,'DejaVu Sans Mono',consolas,'Courier New',monospace\"></pre>\n"
      ],
      "text/plain": []
     },
     "metadata": {},
     "output_type": "display_data"
    },
    {
     "data": {
      "text/html": [
       "<pre style=\"white-space:pre;overflow-x:auto;line-height:normal;font-family:Menlo,'DejaVu Sans Mono',consolas,'Courier New',monospace\"></pre>\n"
      ],
      "text/plain": []
     },
     "metadata": {},
     "output_type": "display_data"
    },
    {
     "data": {
      "text/html": [
       "<pre style=\"white-space:pre;overflow-x:auto;line-height:normal;font-family:Menlo,'DejaVu Sans Mono',consolas,'Courier New',monospace\"></pre>\n"
      ],
      "text/plain": []
     },
     "metadata": {},
     "output_type": "display_data"
    },
    {
     "data": {
      "text/html": [
       "<pre style=\"white-space:pre;overflow-x:auto;line-height:normal;font-family:Menlo,'DejaVu Sans Mono',consolas,'Courier New',monospace\"></pre>\n"
      ],
      "text/plain": []
     },
     "metadata": {},
     "output_type": "display_data"
    },
    {
     "data": {
      "text/plain": [
       "[{'role': 'user',\n",
       "  'type': 'message',\n",
       "  'content': 'Write a python code for serving fast API server'},\n",
       " {'role': 'assistant',\n",
       "  'type': 'message',\n",
       "  'content': \" Here's a simple Python code using Flask to create a fast API server. First, make sure you have Flask installed by runningpip install flask in your terminal. Then, you can use the following code:\\n\"},\n",
       " {'role': 'assistant',\n",
       "  'type': 'code',\n",
       "  'format': 'python',\n",
       "  'content': '\\nfrom flask import Flask, request, jsonify\\n\\napp = Flask(__name__)\\n\\n@app.route(\\'/api\\', methods=[\\'GET\\', \\'POST\\'])\\ndef api_endpoint():\\n    if request.method == \\'GET\\':\\n        # Handle GET requests\\n        return jsonify({\"message\": \"Hello, you sent a GET request\"})\\n    elif request.method == \\'POST\\':\\n        # Handle POST requests\\n        data = request.get_json()\\n        return jsonify({\"message\": \"Hello, you sent a POST request with data:\", \"data\": data})\\n\\nif __name__ == \\'__main__\\':\\n    app.run(debug=True)\\n'},\n",
       " {'role': 'computer',\n",
       "  'type': 'console',\n",
       "  'format': 'output',\n",
       "  'content': \"\\x1b[0;31m---------------------------------------------------------------------------\\x1b[0m\\n\\x1b[0;31mModuleNotFoundError\\x1b[0m                       Traceback (most recent call last)\\nCell \\x1b[0;32mIn[5], line 2\\x1b[0m\\n\\x1b[1;32m      1\\x1b[0m \\x1b[38;5;28mprint\\x1b[39m(\\x1b[38;5;124m'\\x1b[39m\\x1b[38;5;124m##active_line1##\\x1b[39m\\x1b[38;5;124m'\\x1b[39m)\\n\\x1b[0;32m----> 2\\x1b[0m \\x1b[38;5;28;01mfrom\\x1b[39;00m \\x1b[38;5;21;01mflask\\x1b[39;00m \\x1b[38;5;28;01mimport\\x1b[39;00m Flask, request, jsonify\\n\\x1b[1;32m      3\\x1b[0m \\x1b[38;5;28mprint\\x1b[39m(\\x1b[38;5;124m'\\x1b[39m\\x1b[38;5;124m##active_line2##\\x1b[39m\\x1b[38;5;124m'\\x1b[39m)\\n\\x1b[1;32m      4\\x1b[0m \\x1b[38;5;28;01mpass\\x1b[39;00m\\n\\n\\x1b[0;31mModuleNotFoundError\\x1b[0m: No module named 'flask'\"},\n",
       " {'role': 'assistant',\n",
       "  'type': 'message',\n",
       "  'content': ' This output is indicating that the Flask module is not installed on your system. To resolve this issue, you need to install Flask using pip. Run the following command in your terminal:\\n'},\n",
       " {'role': 'assistant',\n",
       "  'type': 'code',\n",
       "  'format': 'bash',\n",
       "  'content': '\\npip install flask\\n'},\n",
       " {'role': 'computer',\n",
       "  'type': 'console',\n",
       "  'format': 'output',\n",
       "  'content': '`bash` disabled or not supported.'},\n",
       " {'role': 'assistant',\n",
       "  'type': 'message',\n",
       "  'content': \" It seems that you are trying to run a bash command in a Python code block, which is not supported. To execute bash commands, you should use a bash code block instead. Here's the corrected code:\\n\"},\n",
       " {'role': 'assistant',\n",
       "  'type': 'code',\n",
       "  'format': 'bash',\n",
       "  'content': '\\n\\npip install flask\\n\\n'},\n",
       " {'role': 'computer',\n",
       "  'type': 'console',\n",
       "  'format': 'output',\n",
       "  'content': '`bash` disabled or not supported.'},\n",
       " {'role': 'assistant',\n",
       "  'type': 'message',\n",
       "  'content': '  I apologize for the confusion earlier. It seems that the output you provided is a message from the AI, not a command to be executed. The message is indicating that thebash language is not supported or disabled in this context.\\n\\nTo proceed with the task of creating a fast API server using Python and Flask, please provide the Python code block again, and I will help you execute it.'}]"
      ]
     },
     "execution_count": 14,
     "metadata": {},
     "output_type": "execute_result"
    }
   ],
   "source": [
    "interpreter.messages = []\n",
    "interpreter.chat(\"Write a python code for serving fast API server\")"
   ]
  }
 ],
 "metadata": {
  "kernelspec": {
   "display_name": "oi",
   "language": "python",
   "name": "python3"
  },
  "language_info": {
   "codemirror_mode": {
    "name": "ipython",
    "version": 3
   },
   "file_extension": ".py",
   "mimetype": "text/x-python",
   "name": "python",
   "nbconvert_exporter": "python",
   "pygments_lexer": "ipython3",
   "version": "3.11.3"
  }
 },
 "nbformat": 4,
 "nbformat_minor": 2
}
